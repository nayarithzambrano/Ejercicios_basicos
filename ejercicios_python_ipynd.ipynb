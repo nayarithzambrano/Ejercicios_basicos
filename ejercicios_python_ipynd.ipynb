{
  "nbformat": 4,
  "nbformat_minor": 0,
  "metadata": {
    "colab": {
      "provenance": [],
      "authorship_tag": "ABX9TyORHjIS5BE+JYexELfvhWEc",
      "include_colab_link": true
    },
    "kernelspec": {
      "name": "python3",
      "display_name": "Python 3"
    },
    "language_info": {
      "name": "python"
    }
  },
  "cells": [
    {
      "cell_type": "markdown",
      "metadata": {
        "id": "view-in-github",
        "colab_type": "text"
      },
      "source": [
        "<a href=\"https://colab.research.google.com/github/nayarithzambrano/Ejercicios_basicos/blob/main/ejercicios_python_ipynd.ipynb\" target=\"_parent\"><img src=\"https://colab.research.google.com/assets/colab-badge.svg\" alt=\"Open In Colab\"/></a>"
      ]
    },
    {
      "cell_type": "markdown",
      "source": [
        "# ejercicios python\n",
        "\n",
        "1.suma de dos numeros\n",
        "\n",
        "2.potencia de dos numeros"
      ],
      "metadata": {
        "id": "gwb487kvgx0-"
      }
    },
    {
      "cell_type": "code",
      "execution_count": null,
      "metadata": {
        "id": "hGFCSftVXDpO"
      },
      "outputs": [],
      "source": [
        "# suma de dos numeros enteros\n",
        "\n",
        "print(\"--------------------------------\")\n",
        "print(\"-----SUMA DOS ENTEROS-----------\")\n",
        "print(\"--------------------------------\")\n",
        "\n",
        "# input\n",
        "x = int(input(\"Digite el valor de x\"))\n",
        "y = int(input(\"Digite el valor de y\"))\n",
        "\n",
        "# processing\n",
        "z = x + y\n",
        "\n",
        "# output\n",
        "print(\"la suma de \",x,\" + \",y,\" es \", z)\n"
      ]
    }
  ]
}